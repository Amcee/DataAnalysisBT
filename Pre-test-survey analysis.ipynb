{
 "cells": [
  {
   "cell_type": "code",
   "execution_count": 26,
   "id": "d08f4d91",
   "metadata": {},
   "outputs": [],
   "source": [
    "import numpy as np\n",
    "import pandas as pd\n",
    "import questions \n",
    "import json\n",
    "import os\n",
    "import matplotlib.pyplot as plt\n",
    "# if using a Jupyter notebook, include:\n",
    "%matplotlib inline"
   ]
  },
  {
   "cell_type": "code",
   "execution_count": 4,
   "id": "9e037560",
   "metadata": {},
   "outputs": [],
   "source": [
    "filepath = r\"D:\\Users\\Amer\\Desktop\\bachelorarbeit\\data analysis\\Pre-test-surveys\"\n",
    "\n",
    "# JSON format: Gender, Age, English in school, English confidence,  Reading directionality, Abschluss, Corrected Eyesight, Colorblindness\n",
    "\n",
    "gender = []\n",
    "age = []\n",
    "englishSchool = []\n",
    "englishConfidence = []\n",
    "readingDirectionality = []\n",
    "degree = []\n",
    "eyesight = []\n",
    "colorblind = []\n",
    "\n",
    "# iterate through all files in the directory\n",
    "for file in os.listdir(filepath):\n",
    "    filename = os.fsdecode(file)\n",
    "    # extract data from text file\n",
    "    with open(''.join((filepath, r'\\\\', file)), 'r') as f:\n",
    "        line = f.readline()\n",
    "    answersJSON = json.loads(line)\n",
    "    gender.append(answersJSON[0]) \n",
    "    age.append(answersJSON[1])\n",
    "    englishSchool.append(answersJSON[2])\n",
    "    englishConfidence.append(answersJSON[3])\n",
    "    readingDirectionality.append(answersJSON[4])\n",
    "    degree.append(answersJSON[5])\n",
    "    eyesight.append(answersJSON[6])\n",
    "    colorblind.append(answersJSON[7])\n",
    "\n"
   ]
  },
  {
   "cell_type": "code",
   "execution_count": 6,
   "id": "556e246e",
   "metadata": {},
   "outputs": [
    {
     "name": "stdout",
     "output_type": "stream",
     "text": [
      "['Male', 'Other', 'Male', 'Male', 'Male', 'Female', 'Male', 'Male', 'Female', 'Male', 'Male', 'Male', 'Male']\n",
      "[24, 23, 23, 26, 23, 22, 27, 29, 25, 21, 22, 18, 24]\n",
      "23.615384615384617\n",
      "['6 to 10', '6 to 10', '11 or more', '11 or more', '11 or more', '11 or more', '6 to 10', '5 or fewer', '11 or more', '6 to 10', '11 or more', '6 to 10', '11 or more']\n",
      "['Very confident', 'Very confident', 'Very confident', 'Very confident', 'Very confident', 'Very confident', 'Very confident', 'Very confident', 'A little confident', 'A little confident', 'Very confident', 'A little confident', 'Very confident']\n",
      "['Left to right', 'Left to right', 'Left to right', 'Left to right', 'Left to right', 'Left to right', 'Left to right', 'Left to right', 'Left to right', 'Left to right', 'Left to right', 'Left to right', 'Left to right']\n",
      "['High School', \"Bachelor's Degree\", 'High School', 'High School', 'High School', 'High School', 'High School', 'High School', 'High School', 'Prefer not to say', 'High School', 'High School', 'High School']\n",
      "['No', 'No', 'No', 'No', 'No', 'Yes', 'Yes', 'Yes', 'Yes', 'No', 'Yes', 'Yes', 'No']\n",
      "['No', 'No', 'No', 'No', 'No', 'No', 'Yes, Red-green color blindness', 'No', 'No', 'Yes, Red-green color blindness', 'No', 'No', 'No']\n"
     ]
    }
   ],
   "source": [
    "print(gender)\n",
    "print(age)\n",
    "\n",
    "totalAge = 0\n",
    "for a in age:\n",
    "    totalAge += a\n",
    "\n",
    "\n",
    "    \n",
    "    \n",
    "print(englishSchool)\n",
    "print(englishConfidence)\n",
    "print(readingDirectionality)\n",
    "print(degree)\n",
    "print(eyesight)\n",
    "print(colorblind)"
   ]
  },
  {
   "cell_type": "code",
   "execution_count": 36,
   "id": "5c9ea30c",
   "metadata": {},
   "outputs": [
    {
     "name": "stdout",
     "output_type": "stream",
     "text": [
      "    age\n",
      "0    24\n",
      "1    23\n",
      "2    23\n",
      "3    26\n",
      "4    23\n",
      "5    22\n",
      "6    27\n",
      "7    29\n",
      "8    25\n",
      "9    21\n",
      "10   22\n",
      "11   18\n",
      "12   24\n"
     ]
    },
    {
     "data": {
      "image/png": "[encoded data removed]",
      "text/plain": [
       "<Figure size 750x350 with 1 Axes>"
      ]
     },
     "metadata": {},
     "output_type": "display_data"
    }
   ],
   "source": [
    "plt.rcParams[\"figure.figsize\"] = [7.50, 3.50]\n",
    "plt.rcParams[\"figure.autolayout\"] = True\n",
    "\n",
    "fig, ax = plt.subplots()\n",
    "\n",
    "df = pd.DataFrame({'age': age})\n",
    "print(df)\n",
    "df.value_counts().plot(ax=ax, kind='bar', xlabel='age', ylabel='frequency')\n",
    "\n",
    "plt.show()"
   ]
  },
  {
   "cell_type": "code",
   "execution_count": null,
   "id": "913637e0",
   "metadata": {},
   "outputs": [],
   "source": [
    "accuracy = [0, 0, 0, 0, 0]\n",
    "for i in range(0, 5):\n",
    "    accuracy[i] = (rightAnswerCount[i] / (rightAnswerCount[i] + wrongAnswerCount[i]))\n",
    "print(accuracy)\n",
    "\n",
    "designs = [1, 2, 3, 4, 5]\n",
    "x_pos = np.arange(len(designs))\n",
    "\n",
    "# Build the plot\n",
    "fig, ax = plt.subplots()\n",
    "\n",
    "ax.bar(x_pos, accuracy, align='center', alpha=0.7)\n",
    "ax.set_ylabel('Accuracy')\n",
    "ax.set_xlabel('Design ID')\n",
    "ax.set_xticks(x_pos)\n",
    "ax.set_xticklabels(designs)\n",
    "ax.set_title('Accuracys for each design ID')\n",
    "ax.yaxis.grid(True)\n",
    "\n",
    "\n",
    "# Save the figure and show\n",
    "plt.tight_layout()\n",
    "plt.savefig('accuracy_per_design.png')\n",
    "plt.show()\n"
   ]
  }
 ],
 "metadata": {
  "kernelspec": {
   "display_name": "Python 3 (ipykernel)",
   "language": "python",
   "name": "python3"
  },
  "language_info": {
   "codemirror_mode": {
    "name": "ipython",
    "version": 3
   },
   "file_extension": ".py",
   "mimetype": "text/x-python",
   "name": "python",
   "nbconvert_exporter": "python",
   "pygments_lexer": "ipython3",
   "version": "3.9.13"
  }
 },
 "nbformat": 4,
 "nbformat_minor": 5
}
