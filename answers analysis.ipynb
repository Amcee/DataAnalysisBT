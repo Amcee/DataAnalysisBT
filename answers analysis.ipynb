{
 "cells": [
  {
   "cell_type": "code",
   "execution_count": 19,
   "id": "0d15b9dc",
   "metadata": {},
   "outputs": [],
   "source": [
    "import numpy as np\n",
    "import pandas\n",
    "import questions \n",
    "import json\n",
    "import os\n",
    "import matplotlib.pyplot as plt\n",
    "from scipy import stats\n",
    "import statistics\n",
    "# if using a Jupyter notebook, include:\n",
    "%matplotlib inline"
   ]
  },
  {
   "cell_type": "code",
   "execution_count": 2,
   "id": "41ce6984",
   "metadata": {},
   "outputs": [
    {
     "name": "stdout",
     "output_type": "stream",
     "text": [
      "[12, 17, 21, 94, 37]\n",
      "[248, 243, 239, 166, 203]\n"
     ]
    }
   ],
   "source": [
    "filepath = r\"D:\\Users\\Amer\\Desktop\\bachelorarbeit\\data analysis\\answers\"\n",
    "\n",
    "# create two lists with the counter for right/wrong answers for each design\n",
    "wrongAnswerCount = [0] * 5\n",
    "rightAnswerCount = [0] * 5\n",
    "\n",
    "\n",
    "# for design 1-5\n",
    "for i in range(1, 6, 1):\n",
    "    # iterate through all files in the directory\n",
    "    for file in os.listdir(filepath):\n",
    "        filename = os.fsdecode(file)\n",
    "\n",
    "        # if text file has design i in name\n",
    "        if \"design \" + str(i) + \" \" in filename:            \n",
    "\n",
    "            # extract data from text file\n",
    "            with open(''.join((filepath, r'\\\\', file)), 'r') as f:\n",
    "                line = f.readline()\n",
    "            answersJSON = json.loads(line)\n",
    "            for answer in answersJSON:\n",
    "                # when participant canceled\n",
    "                if answersJSON[answer] == None:\n",
    "                    wrongAnswerCount[i-1] +=1\n",
    "                elif answersJSON[answer][0] == questions.questions[answer][2]:\n",
    "                    rightAnswerCount[i-1] += 1\n",
    "                else:\n",
    "                    wrongAnswerCount[i-1] += 1\n",
    "\n",
    "            \n",
    "print(wrongAnswerCount)\n",
    "print(rightAnswerCount)\n",
    "        "
   ]
  },
  {
   "cell_type": "code",
   "execution_count": 23,
   "id": "d02c7f02",
   "metadata": {},
   "outputs": [
    {
     "name": "stdout",
     "output_type": "stream",
     "text": [
      "[[0.95, 0.95, 1.0, 1.0, 1.0, 0.9, 0.9, 0.85, 0.95, 1.0, 1.0, 0.9, 1.0], [0.95, 0.95, 0.95, 0.9, 0.85, 1.0, 0.9, 0.9, 1.0, 0.95, 0.9, 0.95, 0.95], [0.9, 0.95, 1.0, 0.9, 0.95, 0.95, 0.8, 0.8, 1.0, 0.95, 0.9, 0.85, 1.0], [0.7, 0.6, 0.65, 0.7, 0.75, 0.7, 0.6, 0.3, 0.6, 0.85, 0.45, 0.6, 0.8], [0.95, 0.95, 0.85, 0.85, 0.9, 0.9, 0.8, 0.7, 0.9, 0.6, 0.9, 0.85]]\n"
     ]
    }
   ],
   "source": [
    "filepath = r\"D:\\Users\\Amer\\Desktop\\bachelorarbeit\\data analysis\\answers\"\n",
    "\n",
    "# create list of lists with all the accuracys for each design\n",
    "list_of_all = [[]  for _ in range(5)] \n",
    "\n",
    "\n",
    "# for design 1-5\n",
    "for i in range(1, 6, 1):\n",
    "    # iterate through all files in the directory\n",
    "    for file in os.listdir(filepath):\n",
    "        # create two lists with the counter for right/wrong answers for each file\n",
    "        wrongAnswerCount = 0\n",
    "        rightAnswerCount = 0 \n",
    "        filename = os.fsdecode(file)\n",
    "\n",
    "        # if text file has design i in name\n",
    "        if \"design \" + str(i) + \" \" in filename:            \n",
    "\n",
    "            # extract data from text file\n",
    "            with open(''.join((filepath, r'\\\\', file)), 'r') as f:\n",
    "                line = f.readline()\n",
    "            answersJSON = json.loads(line)\n",
    "            for answer in answersJSON:\n",
    "                # when participant canceled\n",
    "                if answersJSON[answer] == None:\n",
    "                    wrongAnswerCount +=1\n",
    "                elif answersJSON[answer][0] == questions.questions[answer][2]:\n",
    "                    rightAnswerCount += 1\n",
    "                else:\n",
    "                    wrongAnswerCount += 1\n",
    "            list_of_all[i-1].append((rightAnswerCount / (rightAnswerCount + wrongAnswerCount)))\n",
    "            \n",
    "\n",
    "            \n",
    "print(list_of_all)"
   ]
  },
  {
   "cell_type": "code",
   "execution_count": 4,
   "id": "750b5ab0",
   "metadata": {},
   "outputs": [
    {
     "data": {
      "image/png": "[encoded data removed]",
      "text/plain": [
       "<Figure size 640x480 with 1 Axes>"
      ]
     },
     "metadata": {},
     "output_type": "display_data"
    }
   ],
   "source": [
    "designs = [1, 2, 3, 4, 5]\n",
    "x_pos = np.arange(len(designs))\n",
    "\n",
    "# Build the plot\n",
    "fig, ax = plt.subplots()\n",
    "\n",
    "ax.set_ylabel('Accuracy')\n",
    "ax.set_xlabel('Design ID')\n",
    "# ax.set_title('Boxplots of accuracy for each design ID')\n",
    "ax.yaxis.grid(True)\n",
    "\n",
    "\n",
    "plt.boxplot(x = list_of_all, labels = designs, showmeans = True, meanline = True)\n",
    "plt.tight_layout()\n",
    "plt.savefig('boxplot_accuracy_per_design.png')\n",
    "plt.show()"
   ]
  },
  {
   "cell_type": "code",
   "execution_count": 26,
   "id": "d78bfa12",
   "metadata": {},
   "outputs": [
    {
     "data": {
      "text/plain": [
       "ShapiroResult(statistic=0.8157382607460022, pvalue=2.0394215027863538e-07)"
      ]
     },
     "execution_count": 26,
     "metadata": {},
     "output_type": "execute_result"
    }
   ],
   "source": [
    "flat_list = []\n",
    "for sublist in list_of_all:\n",
    "    for item in sublist:\n",
    "        flat_list.append(item)\n",
    "\n",
    "stats.shapiro(flat_list)"
   ]
  },
  {
   "cell_type": "code",
   "execution_count": 24,
   "id": "56f4f613",
   "metadata": {},
   "outputs": [
    {
     "name": "stdout",
     "output_type": "stream",
     "text": [
      "WilcoxonResult(statistic=0.0, pvalue=0.000244140625)\n"
     ]
    }
   ],
   "source": [
    "\n",
    "res = stats.wilcoxon(list_of_all[0], list_of_all[3])\n",
    "print(res)"
   ]
  },
  {
   "cell_type": "code",
   "execution_count": 25,
   "id": "cc462d74",
   "metadata": {},
   "outputs": [
    {
     "name": "stdout",
     "output_type": "stream",
     "text": [
      "[0.95, 0.95, 1.0, 1.0, 1.0, 0.9, 0.9, 0.85, 0.95, 1.0, 1.0, 0.9, 1.0]\n",
      "[0.95, 0.95, 1.0, 1.0, 1.0, 0.9, 0.9, 0.95, 1.0, 1.0, 0.9, 1.0]\n",
      "WilcoxonResult(statistic=0.0, pvalue=0.010909498364269283)\n"
     ]
    }
   ],
   "source": [
    "temp = list_of_all[0]\n",
    "print(temp)\n",
    "del temp[7]\n",
    "print(temp)\n",
    "\n",
    "res = stats.wilcoxon(temp, list_of_all[4])\n",
    "print(res)"
   ]
  },
  {
   "cell_type": "code",
   "execution_count": 4,
   "id": "cdb01399",
   "metadata": {},
   "outputs": [
    {
     "name": "stdout",
     "output_type": "stream",
     "text": [
      "[0.9538461538461539, 0.9346153846153846, 0.9192307692307692, 0.6384615384615384, 0.8458333333333333]\n"
     ]
    },
    {
     "data": {
      "image/png": "[encoded data removed]",
      "text/plain": [
       "<Figure size 640x480 with 1 Axes>"
      ]
     },
     "metadata": {},
     "output_type": "display_data"
    }
   ],
   "source": [
    "accuracy = [0, 0, 0, 0, 0]\n",
    "for i in range(0, 5):\n",
    "    accuracy[i] = (rightAnswerCount[i] / (rightAnswerCount[i] + wrongAnswerCount[i]))\n",
    "print(accuracy)\n",
    "\n",
    "designs = [1, 2, 3, 4, 5]\n",
    "x_pos = np.arange(len(designs))\n",
    "\n",
    "# Build the plot\n",
    "fig, ax = plt.subplots()\n",
    "\n",
    "ax.bar(x_pos, accuracy, align='center', alpha=0.7)\n",
    "ax.set_ylabel('Accuracy')\n",
    "ax.set_xlabel('Design ID')\n",
    "ax.set_xticks(x_pos)\n",
    "ax.set_xticklabels(designs)\n",
    "ax.set_title('Accuracys for each design ID')\n",
    "ax.yaxis.grid(True)\n",
    "\n",
    "\n",
    "# Save the figure and show\n",
    "plt.tight_layout()\n",
    "plt.savefig('accuracy_per_design.png')\n",
    "plt.show()\n"
   ]
  },
  {
   "cell_type": "code",
   "execution_count": 58,
   "id": "86d3cb6b",
   "metadata": {},
   "outputs": [
    {
     "name": "stdout",
     "output_type": "stream",
     "text": [
      "[11, 11, 20, 29, 11, 13, 17, 14, 8, 12, 11, 13, 11]\n",
      "[89, 89, 80, 71, 89, 87, 83, 66, 92, 88, 89, 87, 89]\n"
     ]
    }
   ],
   "source": [
    "filepath = r\"D:\\Users\\Amer\\Desktop\\bachelorarbeit\\data analysis\\answers\"\n",
    "\n",
    "# create two lists with the counter for right/wrong answers for each design\n",
    "wrongAnswerCount = [0] * 13\n",
    "rightAnswerCount = [0] * 13\n",
    "\n",
    "\n",
    "# for participants 1-13\n",
    "for i in range(1, 14, 1):\n",
    "    # iterate through all files in the directory\n",
    "    for file in os.listdir(filepath):\n",
    "        filename = os.fsdecode(file)\n",
    "\n",
    "        # if text file has design i in name\n",
    "        if filename.endswith(\"participant\" + str(i) + \".txt\"):            \n",
    "\n",
    "            # extract data from text file\n",
    "            with open(''.join((filepath, r'\\\\', file)), 'r') as f:\n",
    "                line = f.readline()\n",
    "            answersJSON = json.loads(line)\n",
    "            for answer in answersJSON:\n",
    "                # when participant canceled\n",
    "                if answersJSON[answer] == None:\n",
    "                    wrongAnswerCount[i-1] +=1\n",
    "                elif answersJSON[answer][0] == questions.questions[answer][2]:\n",
    "                    rightAnswerCount[i-1] += 1\n",
    "                else:\n",
    "                    wrongAnswerCount[i-1] += 1\n",
    "\n",
    "            \n",
    "print(wrongAnswerCount)\n",
    "print(rightAnswerCount)\n",
    "        "
   ]
  },
  {
   "cell_type": "code",
   "execution_count": 59,
   "id": "47ad5800",
   "metadata": {},
   "outputs": [
    {
     "name": "stdout",
     "output_type": "stream",
     "text": [
      "[0.89, 0.89, 0.8, 0.71, 0.89, 0.87, 0.83, 0.825, 0.92, 0.88, 0.89, 0.87, 0.89]\n"
     ]
    },
    {
     "data": {
      "image/png": "[encoded data removed]",
      "text/plain": [
       "<Figure size 640x480 with 1 Axes>"
      ]
     },
     "metadata": {},
     "output_type": "display_data"
    }
   ],
   "source": [
    "accuracy = [0] * 13\n",
    "for i in range(0, 13):\n",
    "    accuracy[i] = (rightAnswerCount[i] / (rightAnswerCount[i] + wrongAnswerCount[i]))\n",
    "print(accuracy)\n",
    "\n",
    "participants = []\n",
    "participants.extend(range(1, 14))\n",
    "x_pos = np.arange(len(participants))\n",
    "\n",
    "# Build the plot\n",
    "fig, ax = plt.subplots()\n",
    "\n",
    "ax.bar(x_pos, accuracy, align='center', alpha=0.7)\n",
    "ax.set_ylabel('Accuracy')\n",
    "ax.set_xlabel('Participants ID')\n",
    "ax.set_xticks(x_pos)\n",
    "ax.set_xticklabels(participants)\n",
    "ax.set_title('Accuracys for each participant')\n",
    "ax.yaxis.grid(True)\n",
    "\n",
    "\n",
    "# Save the figure and show\n",
    "plt.tight_layout()\n",
    "plt.savefig('accuracy_per_participant.png')\n",
    "plt.show()\n"
   ]
  },
  {
   "cell_type": "code",
   "execution_count": 16,
   "id": "9841e748",
   "metadata": {},
   "outputs": [
    {
     "name": "stdout",
     "output_type": "stream",
     "text": [
      "(0.85, 1.0, 0.15000000000000002)\n",
      "(0.85, 1.0, 0.15000000000000002)\n",
      "(0.8, 1.0, 0.19999999999999996)\n",
      "(0.3, 0.85, 0.55)\n",
      "(0.6, 0.95, 0.35)\n"
     ]
    }
   ],
   "source": [
    "# calculating range\n",
    "def find_range(list_of_numbers):\n",
    "    n_min = min(list_of_numbers)\n",
    "    n_max = max(list_of_numbers)\n",
    "    n_range = n_max - n_min\n",
    "    return n_min, n_max, n_range\n",
    "\n",
    "for e in list_of_all:\n",
    "    print(find_range(e))"
   ]
  },
  {
   "cell_type": "code",
   "execution_count": 17,
   "id": "e2f7a19a",
   "metadata": {},
   "outputs": [
    {
     "name": "stdout",
     "output_type": "stream",
     "text": [
      "0.9538461538461539\n",
      "0.9346153846153845\n",
      "0.9192307692307692\n",
      "0.6384615384615384\n",
      "0.8458333333333333\n"
     ]
    }
   ],
   "source": [
    "def find_mean(list_of_numbers):\n",
    "     sum_n = sum(list_of_numbers)\n",
    "     len_n = len(list_of_numbers)\n",
    "     mean = sum_n/len_n\n",
    "     return mean\n",
    "\n",
    "\n",
    "for e in list_of_all:\n",
    "    print(find_mean(e))"
   ]
  },
  {
   "cell_type": "code",
   "execution_count": 20,
   "id": "8386c046",
   "metadata": {},
   "outputs": [
    {
     "name": "stdout",
     "output_type": "stream",
     "text": [
      "0.002692307692307692\n",
      "0.001826923076923076\n",
      "0.0048076923076923045\n",
      "0.0208974358974359\n",
      "0.010662878787878789\n"
     ]
    }
   ],
   "source": [
    "for e in list_of_all:\n",
    "    print(statistics.variance(e))"
   ]
  }
 ],
 "metadata": {
  "kernelspec": {
   "display_name": "Python 3 (ipykernel)",
   "language": "python",
   "name": "python3"
  },
  "language_info": {
   "codemirror_mode": {
    "name": "ipython",
    "version": 3
   },
   "file_extension": ".py",
   "mimetype": "text/x-python",
   "name": "python",
   "nbconvert_exporter": "python",
   "pygments_lexer": "ipython3",
   "version": "3.9.13"
  }
 },
 "nbformat": 4,
 "nbformat_minor": 5
}
