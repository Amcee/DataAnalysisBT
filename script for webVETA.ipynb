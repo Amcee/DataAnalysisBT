{
 "cells": [
  {
   "cell_type": "code",
   "execution_count": 2,
   "id": "54a18a04",
   "metadata": {},
   "outputs": [],
   "source": [
    "import numpy as np\n",
    "import pandas as pd\n",
    "import questions \n",
    "import json\n",
    "import os\n",
    "import matplotlib.pyplot as plt\n",
    "from scipy import stats\n",
    "# import pingouin as pg\n",
    "# if using a Jupyter notebook, include:\n",
    "%matplotlib inline"
   ]
  },
  {
   "cell_type": "code",
   "execution_count": 3,
   "id": "5b352817",
   "metadata": {},
   "outputs": [],
   "source": [
    "filepath = r\"D:\\Users\\Amer\\Desktop\\bachelorarbeit\\data analysis\\trials\"\n",
    "\n",
    "counter = 0\n",
    "\n",
    "# iterate through all files in the directory\n",
    "for file in os.listdir(filepath):\n",
    "    filename = os.fsdecode(file)\n",
    "    for tsv in os.listdir(''.join((filepath, r'\\\\', file))):\n",
    "            # read tsv and extract time and gaze on screen\n",
    "            df = pd.read_csv(''.join((filepath, r'\\\\', file, r'\\\\', tsv)), sep='\\\\t', engine='python')\n",
    "            time = df['device_time_stamp'].values\n",
    "            left_x = df['left_gaze_point_on_display_area_x'].values\n",
    "            left_y = df['left_gaze_point_on_display_area_y'].values\n",
    "            right_x = df['right_gaze_point_on_display_area_x'].values\n",
    "            right_y = df['right_gaze_point_on_display_area_y'].values\n",
    "            x = ((left_x + right_x) / 2) * 1920\n",
    "            y = ((left_y + right_y) / 2) * 1080\n",
    "            time2 = list(np.arange(1, len(x)+1))\n",
    "            # calculate time in milisecons from 600Hz\n",
    "            res = [i * (1000/600) for i in time2]\n",
    "            d = {'time': res, 'x': x, 'y': y}\n",
    "            data = pd.DataFrame(d)\n",
    "            name = ''.join((filepath, '2', r'\\\\', file, r'\\\\', tsv))\n",
    "            with open(name,'w') as write_tsv:\n",
    "                write_tsv.write(data.to_csv(sep='\\t', index=False))\n",
    "\n",
    "\n",
    "        \n"
   ]
  },
  {
   "cell_type": "code",
   "execution_count": null,
   "id": "4e14b2d2",
   "metadata": {},
   "outputs": [],
   "source": []
  },
  {
   "cell_type": "code",
   "execution_count": null,
   "id": "fe20eed7",
   "metadata": {},
   "outputs": [],
   "source": []
  }
 ],
 "metadata": {
  "kernelspec": {
   "display_name": "Python 3 (ipykernel)",
   "language": "python",
   "name": "python3"
  },
  "language_info": {
   "codemirror_mode": {
    "name": "ipython",
    "version": 3
   },
   "file_extension": ".py",
   "mimetype": "text/x-python",
   "name": "python",
   "nbconvert_exporter": "python",
   "pygments_lexer": "ipython3",
   "version": "3.9.13"
  }
 },
 "nbformat": 4,
 "nbformat_minor": 5
}
